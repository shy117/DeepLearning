{
 "cells": [
  {
   "cell_type": "markdown",
   "metadata": {},
   "source": [
    "任务一"
   ]
  },
  {
   "cell_type": "code",
   "execution_count": 2,
   "metadata": {},
   "outputs": [],
   "source": [
    "import cv2\n",
    "\n",
    "img = cv2.imread('H:/DeepLearning/img/img.jpg')  # 读取图片\n",
    "\n",
    "cv2.namedWindow('img', cv2.WINDOW_NORMAL)\n",
    "cv2.resizeWindow('img', 640, 360)\n",
    "cv2.imshow('img', img)  # 显示图片\n",
    "\n",
    "while 1:\n",
    "    key = cv2.waitKey(0)\n",
    "    if key == ord('q') or key == 27:  # 读取键盘按键‘q’或‘Esc’\n",
    "        cv2.destroyAllWindows()  # 摧毁所有窗口\n",
    "        break"
   ]
  },
  {
   "cell_type": "markdown",
   "metadata": {},
   "source": [
    "任务二"
   ]
  },
  {
   "cell_type": "code",
   "execution_count": 2,
   "metadata": {},
   "outputs": [],
   "source": [
    "import cv2\n",
    "\n",
    "img = cv2.imread('H:/DeepLearning/img/img.jpg')  # 读取图片\n",
    "\n",
    "img_down = cv2.pyrDown(img)\n",
    "img_gray = cv2.cvtColor(img,cv2.COLOR_BGR2GRAY)\n",
    "img_normal = cv2.normalize(img,None,0,100,cv2.NORM_MINMAX)#归一化\n",
    "\n",
    "cv2.imshow('img', img)  # 显示图片\n",
    "cv2.imshow('img_down', img_down)\n",
    "cv2.imshow('img_gray', img_gray)\n",
    "cv2.imshow('img_normal', img_normal) \n",
    "while 1:\n",
    "    key = cv2.waitKey(0)\n",
    "    if key == ord('q') or key == 27:  # 读取键盘按键‘q’或‘Esc’\n",
    "        cv2.destroyAllWindows()  # 摧毁所有窗口\n",
    "        break"
   ]
  },
  {
   "cell_type": "code",
   "execution_count": 3,
   "metadata": {},
   "outputs": [
    {
     "name": "stdout",
     "output_type": "stream",
     "text": [
      "(360, 640, 3)\n",
      "[[[ 76  79  93]\n",
      "  [ 76  79  93]\n",
      "  [ 76  79  93]\n",
      "  ...\n",
      "  [ 95 101 106]\n",
      "  [ 94 100 107]\n",
      "  [ 94 100 107]]\n",
      "\n",
      " [[ 75  78  92]\n",
      "  [ 75  78  92]\n",
      "  [ 76  79  93]\n",
      "  ...\n",
      "  [ 95 101 106]\n",
      "  [ 94 100 107]\n",
      "  [ 94 100 107]]\n",
      "\n",
      " [[ 73  79  92]\n",
      "  [ 73  79  92]\n",
      "  [ 73  79  90]\n",
      "  ...\n",
      "  [ 94 100 105]\n",
      "  [ 94 100 107]\n",
      "  [ 94 100 107]]\n",
      "\n",
      " ...\n",
      "\n",
      " [[ 97  93 105]\n",
      "  [ 98  94 106]\n",
      "  [ 99  95 106]\n",
      "  ...\n",
      "  [112 102 108]\n",
      "  [109  99 105]\n",
      "  [107  97 103]]\n",
      "\n",
      " [[ 96  94 106]\n",
      "  [ 96  94 106]\n",
      "  [ 97  96 106]\n",
      "  ...\n",
      "  [112 105 108]\n",
      "  [111 104 107]\n",
      "  [109 102 105]]\n",
      "\n",
      " [[ 96  94 106]\n",
      "  [ 97  95 107]\n",
      "  [ 98  97 107]\n",
      "  ...\n",
      "  [112 105 108]\n",
      "  [113 106 109]\n",
      "  [112 105 108]]]\n",
      "(360, 640)\n",
      "[[ 83  83  83 ... 102 101 101]\n",
      " [ 82  82  83 ... 102 101 101]\n",
      " [ 82  82  82 ... 101 101 101]\n",
      " ...\n",
      " [ 97  98  99 ... 105 102 100]\n",
      " [ 98  98  99 ... 107 106 104]\n",
      " [ 98  99 100 ... 107 108 107]]\n"
     ]
    }
   ],
   "source": [
    "import cv2\n",
    "import numpy as np\n",
    "\n",
    "img = cv2.imread('H:/DeepLearning/img/img.jpg')\n",
    "img_gray = cv2.cvtColor(img,cv2.COLOR_BGR2GRAY)\n",
    "\n",
    "print(np.shape(img))\n",
    "print(img)\n",
    "print(np.shape(img_gray))\n",
    "print(img_gray)"
   ]
  }
 ],
 "metadata": {
  "interpreter": {
   "hash": "4547ed63a03d84b68c8f401723abadf17d8845529594116ed6d996c489025dd2"
  },
  "kernelspec": {
   "display_name": "Python 3.10.4 ('d2l')",
   "language": "python",
   "name": "python3"
  },
  "language_info": {
   "codemirror_mode": {
    "name": "ipython",
    "version": 3
   },
   "file_extension": ".py",
   "mimetype": "text/x-python",
   "name": "python",
   "nbconvert_exporter": "python",
   "pygments_lexer": "ipython3",
   "version": "3.8.12"
  },
  "orig_nbformat": 4
 },
 "nbformat": 4,
 "nbformat_minor": 2
}
